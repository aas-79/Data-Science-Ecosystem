{
  "metadata": {
    "kernelspec": {
      "name": "python",
      "display_name": "Python (Pyodide)",
      "language": "python"
    },
    "language_info": {
      "codemirror_mode": {
        "name": "python",
        "version": 3
      },
      "file_extension": ".py",
      "mimetype": "text/x-python",
      "name": "python",
      "nbconvert_exporter": "python",
      "pygments_lexer": "ipython3",
      "version": "3.8"
    }
  },
  "nbformat_minor": 4,
  "nbformat": 4,
  "cells": [
    {
      "cell_type": "markdown",
      "source": "# Data Science Tools and Ecosystem",
      "metadata": {}
    },
    {
      "cell_type": "markdown",
      "source": "In this notebook, Data Science Tools and Ecosystem are summarized.",
      "metadata": {}
    },
    {
      "cell_type": "markdown",
      "source": "Some of the popular Languages that Data Scientists use are:\n\n1. **Python**: Widely used for its simplicity and extensive libraries.\n2. **R**: Popular for statistical analysis and data visualization.\n3. **Julia**: Known for its high performance in numerical and scientific computing.\n4. **Scala**: Often used with Apache Spark for big data processing.\n5. **SQL**: Essential for database management and querying.",
      "metadata": {}
    },
    {
      "cell_type": "markdown",
      "source": "Some of the commonly used libraries in data science:\n\n1. **NumPy**: Essential for numerical computations and handling multi-dimensional arrays.\n2. **Pandas**: Great for data manipulation and analysis, especially with tabular data.\n3. **Matplotlib**: A plotting library for creating static, animated, and interactive visualizations.\n4. **Seaborn**: Built on top of Matplotlib, it provides a high-level interface for drawing attractive statistical graphics.\n5. **Scikit-learn**: A machine learning library that provides simple and efficient tools for data mining and data analysis.\n6. **TensorFlow**: An open-source platform for machine learning and deep learning.\n7. **Keras**: A high-level neural networks API, written in Python and capable of running on top of TensorFlow.\n8. **SciPy**: Used for scientific and technical computing, building on NumPy.\n9. **Statsmodels**: Provides classes and functions for the estimation of many different statistical models.\n10. **NLTK**: The Natural Language Toolkit, useful for working with human language data (text).",
      "metadata": {}
    },
    {
      "cell_type": "markdown",
      "source": "| Data Science Tools |\n|--------------------|\n| Jupyter Notebook   |\n| RStudio            |\n| Apache Spark       |\n| TensorFlow         |\n| KNIME              |\n| RapidMiner         |\n| Tableau            |\n| Power BI           |\n| MATLAB             |\n| SAS                |",
      "metadata": {}
    },
    {
      "cell_type": "code",
      "source": "### Below are a few examples of evaluating arithmetic expressions in Python.\n\n# Example 1: Simple arithmetic operations\nresult1 = 5 + 3 * 2\nprint(result1)  # Output: 11\n\n# Example 2: Using parentheses to change precedence\nresult2 = (5 + 3) * 2\nprint(result2)  # Output: 16\n\n# Example 3: Division and modulus\nresult3 = 10 / 3\nresult4 = 10 % 3\nprint(result3)  # Output: 3.3333333333333335\nprint(result4)  # Output: 1\n\n# Example 4: Exponentiation\nresult5 = 2 ** 3\nprint(result5)  # Output: 8\n\n# Example 5: Using the eval() function to evaluate a string expression\nexpression = \"2 + 3 * (4 - 1)\"\nresult6 = eval(expression)\nprint(result6)  # Output: 11\n",
      "metadata": {
        "trusted": true
      },
      "outputs": [],
      "execution_count": null
    },
    {
      "cell_type": "markdown",
      "source": "# This is a sample arithmetic expression to multiply then add integers\nresult = (3 * 4) + 5\nprint(result)  # Output: 17\n",
      "metadata": {}
    },
    {
      "cell_type": "code",
      "source": "# This expression converts 200 minutes to hours by diving by 60\nhours = 200 / 60\nprint(hours)  # Output: 3.3333333333333335",
      "metadata": {
        "trusted": true
      },
      "outputs": [
        {
          "name": "stdout",
          "text": "3.3333333333333335\n",
          "output_type": "stream"
        }
      ],
      "execution_count": 7
    },
    {
      "cell_type": "markdown",
      "source": "**Objectives:**\n\n- List popular languages for data science.\n- Demonstrate basic arithmetic operations in Python.\n- Convert time units (minutes to hours) using Python expressions.\n- Create and format Markdown cells in Jupyter Notebook.\n- Utilize common data science libraries and tools.\n",
      "metadata": {}
    },
    {
      "cell_type": "markdown",
      "source": "## Author\n\nAndrea Santoso\n",
      "metadata": {}
    }
  ]
}